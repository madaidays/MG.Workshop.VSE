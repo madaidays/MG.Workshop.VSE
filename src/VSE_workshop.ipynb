{
 "cells": [
  {
   "cell_type": "code",
   "execution_count": 1,
   "metadata": {},
   "outputs": [],
   "source": [
    "import pandas as pd\n",
    "import tensorflow as tf\n",
    "import numpy as np\n",
    "import os\n",
    "import time\n",
    "from IPython.display import Image\n",
    "import random\n",
    "import IPython.display as display"
   ]
  },
  {
   "cell_type": "code",
   "execution_count": 2,
   "metadata": {},
   "outputs": [],
   "source": [
    "from services.vse_preprocessor import filter_long_texts, filter_existing_cards\n",
    "from models.inception import VectorGenerator\n",
    "from models.vse_model import VSE_Model\n",
    "from services.evaluator import evaluate"
   ]
  },
  {
   "cell_type": "markdown",
   "metadata": {},
   "source": [
    "## Dataset"
   ]
  },
  {
   "cell_type": "markdown",
   "metadata": {},
   "source": [
    "### Preprocess Images\n"
   ]
  },
  {
   "cell_type": "code",
   "execution_count": 3,
   "metadata": {},
   "outputs": [],
   "source": [
    "image_folder = '../data/processed_images'"
   ]
  },
  {
   "cell_type": "code",
   "execution_count": 4,
   "metadata": {},
   "outputs": [
    {
     "data": {
      "image/jpeg": "[encoded data removed]",
      "text/plain": [
       "<IPython.core.display.Image object>"
      ]
     },
     "execution_count": 4,
     "metadata": {},
     "output_type": "execute_result"
    }
   ],
   "source": [
    "Image(os.path.join(image_folder, random.choice(os.listdir(image_folder))))"
   ]
  },
  {
   "cell_type": "markdown",
   "metadata": {},
   "source": [
    "En este caso, puesto que la primera codificación basada en redes convolucionales esta entrenada y sus pesos no se van a modificar vamos a dejar calculada esta parte para no hacerlo en cada train step."
   ]
  },
  {
   "cell_type": "markdown",
   "metadata": {},
   "source": [
    "Para ello, vamos a cargar el modelo InceptionV3"
   ]
  },
  {
   "cell_type": "markdown",
   "metadata": {},
   "source": [
    "![alt text](../demo_images/inception.png \"Inception\")"
   ]
  },
  {
   "cell_type": "code",
   "execution_count": 5,
   "metadata": {},
   "outputs": [],
   "source": [
    "vector_paths = '../data/image_vectors'"
   ]
  },
  {
   "cell_type": "code",
   "execution_count": 6,
   "metadata": {},
   "outputs": [],
   "source": [
    "inception_enc = VectorGenerator(vector_paths)"
   ]
  },
  {
   "cell_type": "code",
   "execution_count": 7,
   "metadata": {},
   "outputs": [],
   "source": [
    "image_dataset = tf.data.Dataset.from_tensor_slices([os.path.join(image_folder, image) for image in os.listdir(image_folder)[:300]])"
   ]
  },
  {
   "cell_type": "code",
   "execution_count": 8,
   "metadata": {},
   "outputs": [
    {
     "data": {
      "text/plain": [
       "<TensorSliceDataset shapes: (), types: tf.string>"
      ]
     },
     "execution_count": 8,
     "metadata": {},
     "output_type": "execute_result"
    }
   ],
   "source": [
    "image_dataset"
   ]
  },
  {
   "cell_type": "code",
   "execution_count": 9,
   "metadata": {},
   "outputs": [],
   "source": [
    "image_dataset = image_dataset.map(inception_enc.load_image, num_parallel_calls=tf.data.experimental.AUTOTUNE).batch(16)"
   ]
  },
  {
   "cell_type": "code",
   "execution_count": 10,
   "metadata": {},
   "outputs": [
    {
     "data": {
      "text/plain": [
       "<BatchDataset shapes: ((None, 299, 299, 3), (None,)), types: (tf.float32, tf.string)>"
      ]
     },
     "execution_count": 10,
     "metadata": {},
     "output_type": "execute_result"
    }
   ],
   "source": [
    "image_dataset"
   ]
  },
  {
   "cell_type": "code",
   "execution_count": 11,
   "metadata": {},
   "outputs": [],
   "source": [
    "vector_paths = inception_enc.reshape(image_dataset)"
   ]
  },
  {
   "cell_type": "code",
   "execution_count": 12,
   "metadata": {},
   "outputs": [
    {
     "data": {
      "text/plain": [
       "(64, 2048)"
      ]
     },
     "execution_count": 12,
     "metadata": {},
     "output_type": "execute_result"
    }
   ],
   "source": [
    "np.load(vector_paths[0] + '.npy').shape"
   ]
  },
  {
   "cell_type": "markdown",
   "metadata": {},
   "source": [
    "Una vez realizado este proceso, tendremos los vectores de cada imagen calculados por InceptionV3 guardados para poder utilizarlos en los siguientes pasos."
   ]
  },
  {
   "cell_type": "markdown",
   "metadata": {},
   "source": [
    "### Preprocess text"
   ]
  },
  {
   "cell_type": "markdown",
   "metadata": {},
   "source": [
    "Para el texto vamos a tener en cuenta una serie de consideraciones que veremos a continuación:"
   ]
  },
  {
   "cell_type": "code",
   "execution_count": 13,
   "metadata": {},
   "outputs": [],
   "source": [
    "df = pd.read_csv('../data/preprocess-dataset-en.csv', sep=';')\n",
    "df.dropna(inplace=True, subset=['tokenized_text'])"
   ]
  },
  {
   "cell_type": "code",
   "execution_count": 14,
   "metadata": {},
   "outputs": [
    {
     "data": {
      "text/html": [
       "<div>\n",
       "<style scoped>\n",
       "    .dataframe tbody tr th:only-of-type {\n",
       "        vertical-align: middle;\n",
       "    }\n",
       "\n",
       "    .dataframe tbody tr th {\n",
       "        vertical-align: top;\n",
       "    }\n",
       "\n",
       "    .dataframe thead th {\n",
       "        text-align: right;\n",
       "    }\n",
       "</style>\n",
       "<table border=\"1\" class=\"dataframe\">\n",
       "  <thead>\n",
       "    <tr style=\"text-align: right;\">\n",
       "      <th></th>\n",
       "      <th>id</th>\n",
       "      <th>multiverseid</th>\n",
       "      <th>name</th>\n",
       "      <th>color</th>\n",
       "      <th>flavor</th>\n",
       "      <th>text</th>\n",
       "      <th>image</th>\n",
       "      <th>set</th>\n",
       "      <th>type</th>\n",
       "      <th>power</th>\n",
       "      <th>toughness</th>\n",
       "      <th>rarity</th>\n",
       "      <th>cmc</th>\n",
       "      <th>mana_cost</th>\n",
       "      <th>layout</th>\n",
       "      <th>tokenized_text</th>\n",
       "      <th>preprocess_text</th>\n",
       "      <th>preprocess_flavor</th>\n",
       "    </tr>\n",
       "  </thead>\n",
       "  <tbody>\n",
       "    <tr>\n",
       "      <th>0</th>\n",
       "      <td>1669af17-d287-5094-b005-4b143441442f</td>\n",
       "      <td>130483.0</td>\n",
       "      <td>Abundance</td>\n",
       "      <td>Green</td>\n",
       "      <td>NaN</td>\n",
       "      <td>If you would draw a card, you may instead choo...</td>\n",
       "      <td>http://gatherer.wizards.com/Handlers/Image.ash...</td>\n",
       "      <td>10E</td>\n",
       "      <td>Enchantment</td>\n",
       "      <td>NaN</td>\n",
       "      <td>NaN</td>\n",
       "      <td>Rare</td>\n",
       "      <td>4.0</td>\n",
       "      <td>{2}{G}{G}</td>\n",
       "      <td>normal</td>\n",
       "      <td>If you would draw a card, you may instead choo...</td>\n",
       "      <td>would draw card may instead choose land nonlan...</td>\n",
       "      <td>NaN</td>\n",
       "    </tr>\n",
       "    <tr>\n",
       "      <th>1</th>\n",
       "      <td>047d5499-a21c-5f5c-9679-1599fcaf9815</td>\n",
       "      <td>132072.0</td>\n",
       "      <td>Academy Researchers</td>\n",
       "      <td>Blue</td>\n",
       "      <td>They brandish their latest theories as warrior...</td>\n",
       "      <td>When Academy Researchers enters the battlefiel...</td>\n",
       "      <td>http://gatherer.wizards.com/Handlers/Image.ash...</td>\n",
       "      <td>10E</td>\n",
       "      <td>Creature — Human Wizard</td>\n",
       "      <td>2</td>\n",
       "      <td>2</td>\n",
       "      <td>Uncommon</td>\n",
       "      <td>3.0</td>\n",
       "      <td>{1}{U}{U}</td>\n",
       "      <td>normal</td>\n",
       "      <td>When &lt;CARDNAME&gt; enters the battlefield, you ma...</td>\n",
       "      <td>cardname enters battlefield may put aura card ...</td>\n",
       "      <td>brandish latest theories warriors would wield ...</td>\n",
       "    </tr>\n",
       "    <tr>\n",
       "      <th>2</th>\n",
       "      <td>ee19938c-4007-58f1-8904-fae28007b422</td>\n",
       "      <td>129458.0</td>\n",
       "      <td>Adarkar Wastes</td>\n",
       "      <td>NaN</td>\n",
       "      <td>NaN</td>\n",
       "      <td>{T}: Add {C}. {T}: Add {W} or {U}. Adarkar Was...</td>\n",
       "      <td>http://gatherer.wizards.com/Handlers/Image.ash...</td>\n",
       "      <td>10E</td>\n",
       "      <td>Land</td>\n",
       "      <td>NaN</td>\n",
       "      <td>NaN</td>\n",
       "      <td>Rare</td>\n",
       "      <td>0.0</td>\n",
       "      <td>NaN</td>\n",
       "      <td>normal</td>\n",
       "      <td>&lt;COST&gt;: Add &lt;MANA&gt;. &lt;COST&gt;: Add &lt;MANA&gt; or &lt;MAN...</td>\n",
       "      <td>cost add mana cost add mana mana cardname deal...</td>\n",
       "      <td>NaN</td>\n",
       "    </tr>\n",
       "    <tr>\n",
       "      <th>3</th>\n",
       "      <td>8774e18f-3752-5c06-af94-5da3960da9ed</td>\n",
       "      <td>135206.0</td>\n",
       "      <td>Afflict</td>\n",
       "      <td>Black</td>\n",
       "      <td>One rarely notices a heartbeat, save when it i...</td>\n",
       "      <td>Target creature gets -1/-1 until end of turn. ...</td>\n",
       "      <td>http://gatherer.wizards.com/Handlers/Image.ash...</td>\n",
       "      <td>10E</td>\n",
       "      <td>Instant</td>\n",
       "      <td>NaN</td>\n",
       "      <td>NaN</td>\n",
       "      <td>Common</td>\n",
       "      <td>3.0</td>\n",
       "      <td>{2}{B}</td>\n",
       "      <td>normal</td>\n",
       "      <td>Target creature gets &lt;DOWNTURN&gt; until end of t...</td>\n",
       "      <td>target creature gets downturn end turn draw card</td>\n",
       "      <td>one rarely notices heartbeat save stolen</td>\n",
       "    </tr>\n",
       "    <tr>\n",
       "      <th>4</th>\n",
       "      <td>4e875bca-0c52-5d60-889d-1db67e261737</td>\n",
       "      <td>130525.0</td>\n",
       "      <td>Aggressive Urge</td>\n",
       "      <td>Green</td>\n",
       "      <td>The power of the wild, concentrated in a singl...</td>\n",
       "      <td>Target creature gets +1/+1 until end of turn. ...</td>\n",
       "      <td>http://gatherer.wizards.com/Handlers/Image.ash...</td>\n",
       "      <td>10E</td>\n",
       "      <td>Instant</td>\n",
       "      <td>NaN</td>\n",
       "      <td>NaN</td>\n",
       "      <td>Common</td>\n",
       "      <td>2.0</td>\n",
       "      <td>{1}{G}</td>\n",
       "      <td>normal</td>\n",
       "      <td>Target creature gets &lt;UPTURN&gt; until end of tur...</td>\n",
       "      <td>target creature gets upturn end turn draw card</td>\n",
       "      <td>power wild concentrated single charge</td>\n",
       "    </tr>\n",
       "  </tbody>\n",
       "</table>\n",
       "</div>"
      ],
      "text/plain": [
       "                                     id  multiverseid                 name  \\\n",
       "0  1669af17-d287-5094-b005-4b143441442f      130483.0            Abundance   \n",
       "1  047d5499-a21c-5f5c-9679-1599fcaf9815      132072.0  Academy Researchers   \n",
       "2  ee19938c-4007-58f1-8904-fae28007b422      129458.0       Adarkar Wastes   \n",
       "3  8774e18f-3752-5c06-af94-5da3960da9ed      135206.0              Afflict   \n",
       "4  4e875bca-0c52-5d60-889d-1db67e261737      130525.0      Aggressive Urge   \n",
       "\n",
       "   color                                             flavor  \\\n",
       "0  Green                                                NaN   \n",
       "1   Blue  They brandish their latest theories as warrior...   \n",
       "2    NaN                                                NaN   \n",
       "3  Black  One rarely notices a heartbeat, save when it i...   \n",
       "4  Green  The power of the wild, concentrated in a singl...   \n",
       "\n",
       "                                                text  \\\n",
       "0  If you would draw a card, you may instead choo...   \n",
       "1  When Academy Researchers enters the battlefiel...   \n",
       "2  {T}: Add {C}. {T}: Add {W} or {U}. Adarkar Was...   \n",
       "3  Target creature gets -1/-1 until end of turn. ...   \n",
       "4  Target creature gets +1/+1 until end of turn. ...   \n",
       "\n",
       "                                               image  set  \\\n",
       "0  http://gatherer.wizards.com/Handlers/Image.ash...  10E   \n",
       "1  http://gatherer.wizards.com/Handlers/Image.ash...  10E   \n",
       "2  http://gatherer.wizards.com/Handlers/Image.ash...  10E   \n",
       "3  http://gatherer.wizards.com/Handlers/Image.ash...  10E   \n",
       "4  http://gatherer.wizards.com/Handlers/Image.ash...  10E   \n",
       "\n",
       "                      type power toughness    rarity  cmc  mana_cost  layout  \\\n",
       "0              Enchantment   NaN       NaN      Rare  4.0  {2}{G}{G}  normal   \n",
       "1  Creature — Human Wizard     2         2  Uncommon  3.0  {1}{U}{U}  normal   \n",
       "2                     Land   NaN       NaN      Rare  0.0        NaN  normal   \n",
       "3                  Instant   NaN       NaN    Common  3.0     {2}{B}  normal   \n",
       "4                  Instant   NaN       NaN    Common  2.0     {1}{G}  normal   \n",
       "\n",
       "                                      tokenized_text  \\\n",
       "0  If you would draw a card, you may instead choo...   \n",
       "1  When <CARDNAME> enters the battlefield, you ma...   \n",
       "2  <COST>: Add <MANA>. <COST>: Add <MANA> or <MAN...   \n",
       "3  Target creature gets <DOWNTURN> until end of t...   \n",
       "4  Target creature gets <UPTURN> until end of tur...   \n",
       "\n",
       "                                     preprocess_text  \\\n",
       "0  would draw card may instead choose land nonlan...   \n",
       "1  cardname enters battlefield may put aura card ...   \n",
       "2  cost add mana cost add mana mana cardname deal...   \n",
       "3   target creature gets downturn end turn draw card   \n",
       "4     target creature gets upturn end turn draw card   \n",
       "\n",
       "                                   preprocess_flavor  \n",
       "0                                                NaN  \n",
       "1  brandish latest theories warriors would wield ...  \n",
       "2                                                NaN  \n",
       "3           one rarely notices heartbeat save stolen  \n",
       "4              power wild concentrated single charge  "
      ]
     },
     "execution_count": 14,
     "metadata": {},
     "output_type": "execute_result"
    }
   ],
   "source": [
    "df.head()"
   ]
  },
  {
   "cell_type": "markdown",
   "metadata": {},
   "source": [
    "- Mantener signos de puntuación\n",
    "- Mantener palabras y conjugaciones (no lemmatización ni stemming)\n",
    "- Reemplazar nombre de carta por el token < cardname >\n",
    "- Reemplazar contadores, manás y costes por tokens."
   ]
  },
  {
   "cell_type": "code",
   "execution_count": 15,
   "metadata": {},
   "outputs": [
    {
     "data": {
      "text/plain": [
       "50374"
      ]
     },
     "execution_count": 15,
     "metadata": {},
     "output_type": "execute_result"
    }
   ],
   "source": [
    "len(df)"
   ]
  },
  {
   "cell_type": "code",
   "execution_count": 16,
   "metadata": {},
   "outputs": [
    {
     "data": {
      "text/plain": [
       "0    If you would draw a card, you may instead choo...\n",
       "1    When <CARDNAME> enters the battlefield, you ma...\n",
       "2    <COST>: Add <MANA>. <COST>: Add <MANA> or <MAN...\n",
       "3    Target creature gets <DOWNTURN> until end of t...\n",
       "4    Target creature gets <UPTURN> until end of tur...\n",
       "Name: tokenized_text, dtype: object"
      ]
     },
     "execution_count": 16,
     "metadata": {},
     "output_type": "execute_result"
    }
   ],
   "source": [
    "df['tokenized_text'].head()"
   ]
  },
  {
   "cell_type": "code",
   "execution_count": 17,
   "metadata": {},
   "outputs": [],
   "source": [
    "df = filter_long_texts(df, 10)"
   ]
  },
  {
   "cell_type": "code",
   "execution_count": 18,
   "metadata": {},
   "outputs": [
    {
     "data": {
      "text/plain": [
       "11052"
      ]
     },
     "execution_count": 18,
     "metadata": {},
     "output_type": "execute_result"
    }
   ],
   "source": [
    "len(df)"
   ]
  },
  {
   "cell_type": "code",
   "execution_count": 19,
   "metadata": {},
   "outputs": [],
   "source": [
    "filtered_captions, filtered_vector_paths = filter_existing_cards(df, '../data/image_vectors')"
   ]
  },
  {
   "cell_type": "code",
   "execution_count": 20,
   "metadata": {},
   "outputs": [
    {
     "data": {
      "text/plain": [
       "233"
      ]
     },
     "execution_count": 20,
     "metadata": {},
     "output_type": "execute_result"
    }
   ],
   "source": [
    "len(filtered_captions)"
   ]
  },
  {
   "cell_type": "code",
   "execution_count": 21,
   "metadata": {},
   "outputs": [
    {
     "data": {
      "text/plain": [
       "233"
      ]
     },
     "execution_count": 21,
     "metadata": {},
     "output_type": "execute_result"
    }
   ],
   "source": [
    "len(filtered_vector_paths)"
   ]
  },
  {
   "cell_type": "markdown",
   "metadata": {},
   "source": [
    "### Tokenize captions"
   ]
  },
  {
   "cell_type": "code",
   "execution_count": 22,
   "metadata": {},
   "outputs": [],
   "source": [
    "max_words = 300"
   ]
  },
  {
   "cell_type": "code",
   "execution_count": 23,
   "metadata": {},
   "outputs": [],
   "source": [
    "tokenizer = tf.keras.preprocessing.text.Tokenizer(num_words=max_words, oov_token=\"<unk>\", filters='', lower=True)"
   ]
  },
  {
   "cell_type": "code",
   "execution_count": 24,
   "metadata": {},
   "outputs": [],
   "source": [
    "ignore_chars = [' ', '<', '>']   \n",
    "filtered_captions = ['<start> ' + \"\".join((char if char.isalnum() or\n",
    "                    char in ignore_chars else f' {char} ') for char in text) + ' <end>' for text in filtered_captions]"
   ]
  },
  {
   "cell_type": "code",
   "execution_count": 25,
   "metadata": {},
   "outputs": [],
   "source": [
    "tokenizer.fit_on_texts(filtered_captions)"
   ]
  },
  {
   "cell_type": "code",
   "execution_count": 26,
   "metadata": {},
   "outputs": [],
   "source": [
    "tokenizer.word_index['<pad>'] = 0"
   ]
  },
  {
   "cell_type": "code",
   "execution_count": 27,
   "metadata": {},
   "outputs": [],
   "source": [
    "tokenizer.index_word[0] = '<pad>'"
   ]
  },
  {
   "cell_type": "code",
   "execution_count": 28,
   "metadata": {},
   "outputs": [],
   "source": [
    "train_seqs = tokenizer.texts_to_sequences(filtered_captions)"
   ]
  },
  {
   "cell_type": "code",
   "execution_count": 29,
   "metadata": {},
   "outputs": [
    {
     "data": {
      "text/plain": [
       "[[2, 10, 7, 5, 8, 6, 4, 11, 3],\n",
       " [2, 10, 7, 5, 8, 6, 4, 11, 3],\n",
       " [2, 14, 9, 15, 28, 31, 25, 4, 26, 22, 32, 4, 3],\n",
       " [2, 14, 52, 87, 104, 43, 4, 3],\n",
       " [2, 17, 14, 74, 4, 3]]"
      ]
     },
     "execution_count": 29,
     "metadata": {},
     "output_type": "execute_result"
    }
   ],
   "source": [
    "train_seqs[:5]"
   ]
  },
  {
   "cell_type": "code",
   "execution_count": 30,
   "metadata": {},
   "outputs": [],
   "source": [
    "max_length = max(len(t) for t in train_seqs)"
   ]
  },
  {
   "cell_type": "code",
   "execution_count": 31,
   "metadata": {},
   "outputs": [],
   "source": [
    "cap_vector = tf.keras.preprocessing.sequence.pad_sequences(\n",
    "        train_seqs, maxlen=max_length, padding='post')"
   ]
  },
  {
   "cell_type": "code",
   "execution_count": 32,
   "metadata": {},
   "outputs": [
    {
     "data": {
      "text/plain": [
       "array([ 2, 10,  7,  5,  8,  6,  4, 11,  3,  0,  0,  0,  0,  0,  0,  0])"
      ]
     },
     "execution_count": 32,
     "metadata": {},
     "output_type": "execute_result"
    }
   ],
   "source": [
    "cap_vector[0]"
   ]
  },
  {
   "cell_type": "code",
   "execution_count": 33,
   "metadata": {},
   "outputs": [
    {
     "data": {
      "text/plain": [
       "8"
      ]
     },
     "execution_count": 33,
     "metadata": {},
     "output_type": "execute_result"
    }
   ],
   "source": [
    "tokenizer.word_index['add']"
   ]
  },
  {
   "cell_type": "markdown",
   "metadata": {},
   "source": [
    "### Create dataset"
   ]
  },
  {
   "cell_type": "code",
   "execution_count": 34,
   "metadata": {},
   "outputs": [],
   "source": [
    "dataset = tf.data.Dataset.from_tensor_slices((filtered_vector_paths, cap_vector))"
   ]
  },
  {
   "cell_type": "code",
   "execution_count": 35,
   "metadata": {},
   "outputs": [
    {
     "data": {
      "text/plain": [
       "<TensorSliceDataset shapes: ((), (16,)), types: (tf.string, tf.int32)>"
      ]
     },
     "execution_count": 35,
     "metadata": {},
     "output_type": "execute_result"
    }
   ],
   "source": [
    "dataset"
   ]
  },
  {
   "cell_type": "code",
   "execution_count": 36,
   "metadata": {},
   "outputs": [],
   "source": [
    "batch_size = 16\n",
    "buffer_size = 1000"
   ]
  },
  {
   "cell_type": "code",
   "execution_count": 37,
   "metadata": {},
   "outputs": [],
   "source": [
    "def map_func(img_name, cap):\n",
    "    img_tensor = np.load(img_name.decode('utf-8')+'.npy')\n",
    "    return img_tensor, cap"
   ]
  },
  {
   "cell_type": "code",
   "execution_count": 38,
   "metadata": {},
   "outputs": [],
   "source": [
    "dataset = dataset.map(lambda item1, item2: tf.numpy_function(\n",
    "        map_func, [item1, item2], [tf.float32, tf.int32]),\n",
    "        num_parallel_calls=tf.data.experimental.AUTOTUNE)\n",
    "\n",
    "dataset = dataset.shuffle(buffer_size).batch(batch_size)\n",
    "dataset = dataset.prefetch(buffer_size=tf.data.experimental.AUTOTUNE)"
   ]
  },
  {
   "cell_type": "code",
   "execution_count": 39,
   "metadata": {},
   "outputs": [
    {
     "data": {
      "text/plain": [
       "<PrefetchDataset shapes: (<unknown>, <unknown>), types: (tf.float32, tf.int32)>"
      ]
     },
     "execution_count": 39,
     "metadata": {},
     "output_type": "execute_result"
    }
   ],
   "source": [
    "dataset"
   ]
  },
  {
   "cell_type": "markdown",
   "metadata": {},
   "source": [
    "### Define VSE Model"
   ]
  },
  {
   "cell_type": "code",
   "execution_count": 40,
   "metadata": {},
   "outputs": [],
   "source": [
    "vse = VSE_Model(embedding_dim=300,\n",
    "                units=512, \n",
    "                vocab_size= max_words, \n",
    "                tokenizer=tokenizer, \n",
    "                checkpoint_path='../models/vse')"
   ]
  },
  {
   "cell_type": "code",
   "execution_count": 41,
   "metadata": {
    "scrolled": false
   },
   "outputs": [
    {
     "data": {
      "image/jpeg": "[encoded data removed]",
      "text/plain": [
       "<IPython.core.display.Image object>"
      ]
     },
     "metadata": {},
     "output_type": "display_data"
    },
    {
     "name": "stdout",
     "output_type": "stream",
     "text": [
      "['first', 'strike', '<end>']\n",
      "Epoch 26 Loss 0.002095\n",
      "Time taken for 1 epoch 12.696304082870483 sec\n",
      "\n",
      "Epoch 27 Batch 0 Loss 0.0250\n"
     ]
    },
    {
     "data": {
      "image/jpeg": "[encoded data removed]",
      "text/plain": [
       "<IPython.core.display.Image object>"
      ]
     },
     "metadata": {},
     "output_type": "display_data"
    },
    {
     "name": "stdout",
     "output_type": "stream",
     "text": [
      "['<cost>', ':', 'add', '<mana>', '.', '<end>']\n",
      "Epoch 27 Loss 0.002521\n",
      "Time taken for 1 epoch 14.162118196487427 sec\n",
      "\n",
      "Epoch 28 Batch 0 Loss 0.0204\n"
     ]
    },
    {
     "data": {
      "image/jpeg": "[encoded data removed]",
      "text/plain": [
       "<IPython.core.display.Image object>"
      ]
     },
     "metadata": {},
     "output_type": "display_data"
    },
    {
     "name": "stdout",
     "output_type": "stream",
     "text": [
      "['creatures', 'you', 'control', 'get', '<downturn>', '.', '<end>']\n",
      "Epoch 28 Loss 0.002004\n",
      "Time taken for 1 epoch 15.124357461929321 sec\n",
      "\n",
      "Epoch 29 Batch 0 Loss 0.0288\n"
     ]
    },
    {
     "data": {
      "image/jpeg": "[encoded data removed]",
      "text/plain": [
       "<IPython.core.display.Image object>"
      ]
     },
     "metadata": {},
     "output_type": "display_data"
    },
    {
     "name": "stdout",
     "output_type": "stream",
     "text": [
      "['flash', '<mana>', ',', '<cost>', ':', 'untap', 'target', 'artifact', '.', '<end>']\n",
      "Epoch 29 Loss 0.001218\n",
      "Time taken for 1 epoch 14.449540615081787 sec\n",
      "\n",
      "Epoch 30 Batch 0 Loss 0.0231\n"
     ]
    },
    {
     "data": {
      "image/jpeg": "[encoded data removed]",
      "text/plain": [
       "<IPython.core.display.Image object>"
      ]
     },
     "metadata": {},
     "output_type": "display_data"
    },
    {
     "name": "stdout",
     "output_type": "stream",
     "text": [
      "['you', 'control', 'get', '<upturn>', 'and', 'have', 'vigilance', '.', '<end>']\n",
      "Epoch 30 Loss 0.001488\n",
      "Time taken for 1 epoch 17.048967599868774 sec\n",
      "\n"
     ]
    }
   ],
   "source": [
    "import IPython.display as display\n",
    "num_steps = len(filtered_vector_paths)\n",
    "for epoch in range(vse.start_epoch, 30):\n",
    "    start = time.time()\n",
    "    total_loss = 0\n",
    "\n",
    "    for (batch, (img_tensor, target)) in enumerate(dataset):\n",
    "        batch_loss, t_loss = vse.train_step(img_tensor, target)\n",
    "        total_loss += t_loss\n",
    "\n",
    "        if batch % 100 == 0:\n",
    "            print('Epoch {} Batch {} Loss {:.4f}'.format(\n",
    "                epoch + 1, batch, batch_loss.numpy() / int(target.shape[1])))\n",
    "\n",
    "    if epoch % 5 == 0:\n",
    "        print(\"Saving checkpoint...\")\n",
    "        vse.ckpt_manager.save()\n",
    "        display.clear_output(wait=True)\n",
    "    try:\n",
    "        evaluate_image_path = os.path.join(image_folder, random.choice(os.listdir(image_folder)))\n",
    "        display.display(Image(evaluate_image_path))\n",
    "        result = evaluate(vse, evaluate_image_path, '../data/image_vectors')\n",
    "        print(result)\n",
    "    except Exception as e:\n",
    "        print(f\"Exception: {str(e)}\")\n",
    "\n",
    "    print('Epoch {} Loss {:.6f}'.format(epoch + 1,\n",
    "                                      total_loss/num_steps))\n",
    "    \n",
    "    print('Time taken for 1 epoch {} sec\\n'.format(time.time() - start))\n"
   ]
  },
  {
   "cell_type": "code",
   "execution_count": null,
   "metadata": {},
   "outputs": [],
   "source": []
  }
 ],
 "metadata": {
  "kernelspec": {
   "display_name": "mtg",
   "language": "python",
   "name": "mtg"
  },
  "language_info": {
   "codemirror_mode": {
    "name": "ipython",
    "version": 3
   },
   "file_extension": ".py",
   "mimetype": "text/x-python",
   "name": "python",
   "nbconvert_exporter": "python",
   "pygments_lexer": "ipython3",
   "version": "3.7.1"
  }
 },
 "nbformat": 4,
 "nbformat_minor": 2
}
